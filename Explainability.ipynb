{
 "cells": [
  {
   "cell_type": "markdown",
   "metadata": {},
   "source": [
    "# Tests on explainability"
   ]
  },
  {
   "cell_type": "markdown",
   "metadata": {},
   "source": [
    "Fist part we are getting the keras model made by Shanekonaung on the Boston Housing dataset: https://www.kaggle.com/shanekonaung/boston-housing-price-dataset-with-keras"
   ]
  },
  {
   "cell_type": "code",
   "execution_count": 1,
   "metadata": {},
   "outputs": [],
   "source": [
    "import numpy as np\n",
    "import matplotlib.pyplot as plt\n",
    "%matplotlib inline"
   ]
  },
  {
   "cell_type": "code",
   "execution_count": 2,
   "metadata": {},
   "outputs": [
    {
     "name": "stderr",
     "output_type": "stream",
     "text": [
      "Using TensorFlow backend.\n"
     ]
    }
   ],
   "source": [
    "from keras.datasets import boston_housing\n",
    "\n",
    "(train_data, train_targets), (test_data, test_targets) = boston_housing.load_data()\n",
    "labels = ['CRIM','ZN','INDUS','CHAS','NOX','RM','AGE','DIS','RAD','TAX','PTRATIO','B','LSTAT']"
   ]
  },
  {
   "cell_type": "code",
   "execution_count": 3,
   "metadata": {},
   "outputs": [],
   "source": [
    "mean = train_data.mean(axis=0)\n",
    "train_data -= mean\n",
    "std = train_data.std(axis=0)\n",
    "train_data /= std\n",
    "\n",
    "test_data -= mean\n",
    "test_data /= std"
   ]
  },
  {
   "cell_type": "code",
   "execution_count": 4,
   "metadata": {},
   "outputs": [],
   "source": [
    "from keras import models\n",
    "from keras import layers\n",
    "\n",
    "def build_model():\n",
    "    model = models.Sequential()\n",
    "    model.add(layers.Dense(64, activation='relu', input_shape=(train_data.shape[1],)))\n",
    "    model.add(layers.Dense(64, activation='relu'))\n",
    "    model.add(layers.Dense(1))\n",
    "\n",
    "    model.compile(optimizer='rmsprop',\n",
    "              loss='mse',\n",
    "              metrics=['mae'])\n",
    "    return model"
   ]
  },
  {
   "cell_type": "code",
   "execution_count": 5,
   "metadata": {},
   "outputs": [
    {
     "name": "stdout",
     "output_type": "stream",
     "text": [
      "102/102 [==============================] - 0s 752us/step\n"
     ]
    }
   ],
   "source": [
    "model = build_model()\n",
    "model.fit(train_data, train_targets, epochs=80, batch_size=16, verbose=0)\n",
    "test_mse_score, test_mae_score = model.evaluate(test_data, test_targets)"
   ]
  },
  {
   "cell_type": "code",
   "execution_count": 29,
   "metadata": {},
   "outputs": [
    {
     "data": {
      "text/plain": [
       "2.769066095352173"
      ]
     },
     "execution_count": 29,
     "metadata": {},
     "output_type": "execute_result"
    }
   ],
   "source": [
    "test_mae_score"
   ]
  },
  {
   "cell_type": "markdown",
   "metadata": {},
   "source": [
    "## Beginning of Experiments"
   ]
  },
  {
   "cell_type": "markdown",
   "metadata": {},
   "source": [
    "#### We begin by experimenting on a signe individual"
   ]
  },
  {
   "cell_type": "code",
   "execution_count": 30,
   "metadata": {},
   "outputs": [],
   "source": [
    "#We define what will be the epsilon used to calculate the derivative\n",
    "epsilon = 0.01"
   ]
  },
  {
   "cell_type": "code",
   "execution_count": 31,
   "metadata": {},
   "outputs": [],
   "source": [
    "#prediction of individual 0\n",
    "base_pred = model.predict(np.array([test_data[0,:]]))"
   ]
  },
  {
   "cell_type": "code",
   "execution_count": 32,
   "metadata": {},
   "outputs": [],
   "source": [
    "#For each feature we add epsilon and predict the result (in new_preds_pos)\n",
    "new_preds = []\n",
    "for i, feat in enumerate(np.array(test_data[0,:])):\n",
    "    tmp = np.copy(test_data[0,:])\n",
    "    np.put(tmp, i, feat+epsilon)\n",
    "    new_preds.append(model.predict(np.array([tmp])))"
   ]
  },
  {
   "cell_type": "code",
   "execution_count": 33,
   "metadata": {},
   "outputs": [],
   "source": [
    "#We can now calculate the derivatives based on normalized features\n",
    "derivatives = (new_preds-base_pred)/epsilon"
   ]
  },
  {
   "cell_type": "code",
   "execution_count": 34,
   "metadata": {},
   "outputs": [
    {
     "name": "stdout",
     "output_type": "stream",
     "text": [
      "derivative of the feature 0 on individual zero is [-1.36] \n",
      "derivative of the feature 1 on individual zero is [-2.03] \n",
      "derivative of the feature 2 on individual zero is [0.37] \n",
      "derivative of the feature 3 on individual zero is [-0.4] \n",
      "derivative of the feature 4 on individual zero is [-2.32] \n",
      "derivative of the feature 5 on individual zero is [-0.68] \n",
      "derivative of the feature 6 on individual zero is [1.19] \n",
      "derivative of the feature 7 on individual zero is [-2.6] \n",
      "derivative of the feature 8 on individual zero is [2.3] \n",
      "derivative of the feature 9 on individual zero is [1.] \n",
      "derivative of the feature 10 on individual zero is [0.75] \n",
      "derivative of the feature 11 on individual zero is [-0.07] \n",
      "derivative of the feature 12 on individual zero is [-1.24] \n"
     ]
    }
   ],
   "source": [
    "#Let's visualize them :\n",
    "for i, der in enumerate(derivatives):\n",
    "    print(f'derivative of the feature {i} on individual zero is {np.around(der[:,0],decimals=2)} ')"
   ]
  },
  {
   "cell_type": "markdown",
   "metadata": {},
   "source": [
    "We can change the individual which is studied :"
   ]
  },
  {
   "cell_type": "code",
   "execution_count": 35,
   "metadata": {},
   "outputs": [],
   "source": [
    "indiv = 1"
   ]
  },
  {
   "cell_type": "code",
   "execution_count": 36,
   "metadata": {},
   "outputs": [],
   "source": [
    "#We define what will be the epsilon used to calculate the derivative\n",
    "epsilon = 0.01"
   ]
  },
  {
   "cell_type": "code",
   "execution_count": 37,
   "metadata": {},
   "outputs": [],
   "source": [
    "#prediction of individual 'indiv'\n",
    "base_pred = model.predict(np.array([test_data[indiv,:]]))"
   ]
  },
  {
   "cell_type": "code",
   "execution_count": 38,
   "metadata": {},
   "outputs": [],
   "source": [
    "#For each feature we add epsilon and predict the result\n",
    "new_preds = []\n",
    "for i, feat in enumerate(np.array(test_data[indiv,:])):\n",
    "    tmp = np.copy(test_data[indiv,:])\n",
    "    np.put(tmp, i, feat+epsilon)\n",
    "    new_preds.append(model.predict(np.array([tmp])))"
   ]
  },
  {
   "cell_type": "code",
   "execution_count": 39,
   "metadata": {},
   "outputs": [
    {
     "data": {
      "text/plain": [
       "array([[[-0.06331825]],\n",
       "\n",
       "       [[-0.05688095]],\n",
       "\n",
       "       [[-0.00661469]],\n",
       "\n",
       "       [[-0.04421234]],\n",
       "\n",
       "       [[-0.03766251]],\n",
       "\n",
       "       [[ 0.00166512]],\n",
       "\n",
       "       [[-0.00072098]],\n",
       "\n",
       "       [[-0.04926872]],\n",
       "\n",
       "       [[ 0.01219177]],\n",
       "\n",
       "       [[-0.01277542]],\n",
       "\n",
       "       [[-0.01061249]],\n",
       "\n",
       "       [[ 0.01720047]],\n",
       "\n",
       "       [[-0.01837921]]], dtype=float32)"
      ]
     },
     "execution_count": 39,
     "metadata": {},
     "output_type": "execute_result"
    }
   ],
   "source": [
    "#We cannow calculate the derivatives\n",
    "derivatives = (new_preds-base_pred)/epsilon\n",
    "new_preds-base_pred"
   ]
  },
  {
   "cell_type": "code",
   "execution_count": 40,
   "metadata": {},
   "outputs": [
    {
     "name": "stdout",
     "output_type": "stream",
     "text": [
      "derivative of the feature 0 on individual 1 is  [-6.33] \n",
      "derivative of the feature 1 on individual 1 is  [-5.69] \n",
      "derivative of the feature 2 on individual 1 is  [-0.66] \n",
      "derivative of the feature 3 on individual 1 is  [-4.42] \n",
      "derivative of the feature 4 on individual 1 is  [-3.77] \n",
      "derivative of the feature 5 on individual 1 is  [0.17] \n",
      "derivative of the feature 6 on individual 1 is  [-0.07] \n",
      "derivative of the feature 7 on individual 1 is  [-4.93] \n",
      "derivative of the feature 8 on individual 1 is  [1.22] \n",
      "derivative of the feature 9 on individual 1 is  [-1.28] \n",
      "derivative of the feature 10 on individual 1 is  [-1.06] \n",
      "derivative of the feature 11 on individual 1 is  [1.72] \n",
      "derivative of the feature 12 on individual 1 is  [-1.84] \n"
     ]
    }
   ],
   "source": [
    "#Let's visualize them :\n",
    "for i, der in enumerate(derivatives):\n",
    "    print(f'derivative of the feature {i} on individual {indiv} is  {np.around(der[:,0],decimals=2)} ')"
   ]
  },
  {
   "cell_type": "markdown",
   "metadata": {},
   "source": [
    "### We will compute the derivative by retracting epsilon instead of adding it, in order to have a better approximation of the derivative"
   ]
  },
  {
   "cell_type": "code",
   "execution_count": 6,
   "metadata": {},
   "outputs": [
    {
     "name": "stdout",
     "output_type": "stream",
     "text": [
      "[[[-0.07406044]]\n",
      "\n",
      " [[-0.04308128]]\n",
      "\n",
      " [[-0.01566887]]\n",
      "\n",
      " [[-0.02894402]]\n",
      "\n",
      " [[-0.03750992]]\n",
      "\n",
      " [[-0.00564194]]\n",
      "\n",
      " [[-0.00425911]]\n",
      "\n",
      " [[-0.04884148]]\n",
      "\n",
      " [[ 0.02828407]]\n",
      "\n",
      " [[-0.00485611]]\n",
      "\n",
      " [[-0.00839996]]\n",
      "\n",
      " [[ 0.02676201]]\n",
      "\n",
      " [[-0.02135468]]]\n",
      "derivative of the feature 0 on individual 1 is  [-7.42] \n",
      "derivative of the feature 1 on individual 1 is  [-4.38] \n",
      "derivative of the feature 2 on individual 1 is  [-1.58] \n",
      "derivative of the feature 3 on individual 1 is  [-3.17] \n",
      "derivative of the feature 4 on individual 1 is  [-3.96] \n",
      "derivative of the feature 5 on individual 1 is  [-0.66] \n",
      "derivative of the feature 6 on individual 1 is  [-0.62] \n",
      "derivative of the feature 7 on individual 1 is  [-4.91] \n",
      "derivative of the feature 8 on individual 1 is  [2.67] \n",
      "derivative of the feature 9 on individual 1 is  [-0.5] \n",
      "derivative of the feature 10 on individual 1 is  [-0.93] \n",
      "derivative of the feature 11 on individual 1 is  [2.58] \n",
      "derivative of the feature 12 on individual 1 is  [-2.08] \n"
     ]
    }
   ],
   "source": [
    "indiv = 1\n",
    "epsilon = 0.01\n",
    "\n",
    "base_pred = model.predict(np.array([test_data[indiv,:]]))\n",
    "\n",
    "new_preds_pos = []\n",
    "new_preds_neg = []\n",
    "for i, feat in enumerate(np.array(test_data[indiv,:])):\n",
    "    tmp = np.copy(test_data[indiv,:])\n",
    "    np.put(tmp, i, feat+epsilon)\n",
    "    new_preds_pos.append(model.predict(np.array([tmp])))\n",
    "    np.put(tmp, i, feat-epsilon)\n",
    "    new_preds_neg.append(model.predict(np.array([tmp])))\n",
    "    \n",
    "new_preds_pos = np.array(new_preds_pos)\n",
    "new_preds_neg = np.array(new_preds_neg)\n",
    "    \n",
    "derivatives = (((new_preds_pos-base_pred)-(new_preds_neg-base_pred))/2)/epsilon\n",
    "\n",
    "for i, der in enumerate(derivatives):\n",
    "    print(f'derivative of the feature {i} on individual {indiv} is  {np.around(der[:,0],decimals=2)} ')"
   ]
  },
  {
   "cell_type": "markdown",
   "metadata": {},
   "source": [
    "### Let's try to give a visual representation of an individual"
   ]
  },
  {
   "cell_type": "code",
   "execution_count": 8,
   "metadata": {},
   "outputs": [
    {
     "data": {
      "image/png": "[encoded data removed]",
      "text/plain": [
       "<Figure size 640x480 with 1 Axes>"
      ]
     },
     "metadata": {},
     "output_type": "display_data"
    }
   ],
   "source": [
    "color = []\n",
    "for i in derivatives[:,0][:,0]:\n",
    "    if i > 0:\n",
    "        color.append('blue')\n",
    "    else:\n",
    "        color.append('red')\n",
    "\n",
    "plt.rcdefaults()\n",
    "fig, ax = plt.subplots()\n",
    "y_pos = np.arange(len(labels))\n",
    "ax.barh(y_pos, derivatives[:,0][:,0], align='center',color=color)\n",
    "ax.set_yticks(y_pos)\n",
    "ax.set_yticklabels(labels)\n",
    "ax.invert_yaxis()\n",
    "plt.show()"
   ]
  },
  {
   "cell_type": "markdown",
   "metadata": {},
   "source": [
    "We are intersted to see if training the same model with the same data leads to the same chart every time"
   ]
  },
  {
   "cell_type": "code",
   "execution_count": 10,
   "metadata": {},
   "outputs": [
    {
     "name": "stdout",
     "output_type": "stream",
     "text": [
      "102/102 [==============================] - 0s 1ms/step\n"
     ]
    },
    {
     "ename": "IndexError",
     "evalue": "only integers, slices (`:`), ellipsis (`...`), numpy.newaxis (`None`) and integer or boolean arrays are valid indices",
     "output_type": "error",
     "traceback": [
      "\u001b[1;31m---------------------------------------------------------------------------\u001b[0m",
      "\u001b[1;31mIndexError\u001b[0m                                Traceback (most recent call last)",
      "\u001b[1;32m<ipython-input-10-9b5df766161a>\u001b[0m in \u001b[0;36m<module>\u001b[1;34m\u001b[0m\n\u001b[0;32m     35\u001b[0m \u001b[1;33m\u001b[0m\u001b[0m\n\u001b[0;32m     36\u001b[0m         \u001b[0my_pos\u001b[0m \u001b[1;33m=\u001b[0m \u001b[0mnp\u001b[0m\u001b[1;33m.\u001b[0m\u001b[0marange\u001b[0m\u001b[1;33m(\u001b[0m\u001b[0mlen\u001b[0m\u001b[1;33m(\u001b[0m\u001b[0mlabels\u001b[0m\u001b[1;33m)\u001b[0m\u001b[1;33m)\u001b[0m\u001b[1;33m\u001b[0m\u001b[1;33m\u001b[0m\u001b[0m\n\u001b[1;32m---> 37\u001b[1;33m         \u001b[0maxs\u001b[0m\u001b[1;33m[\u001b[0m\u001b[1;36m4\u001b[0m\u001b[1;33m*\u001b[0m\u001b[0mi\u001b[0m\u001b[1;33m+\u001b[0m\u001b[0mj\u001b[0m\u001b[1;33m]\u001b[0m\u001b[1;33m.\u001b[0m\u001b[0mbarh\u001b[0m\u001b[1;33m(\u001b[0m\u001b[0my_pos\u001b[0m\u001b[1;33m,\u001b[0m \u001b[0mderivatives\u001b[0m\u001b[1;33m[\u001b[0m\u001b[1;33m:\u001b[0m\u001b[1;33m,\u001b[0m\u001b[1;36m0\u001b[0m\u001b[1;33m]\u001b[0m\u001b[1;33m[\u001b[0m\u001b[1;33m:\u001b[0m\u001b[1;33m,\u001b[0m\u001b[1;36m0\u001b[0m\u001b[1;33m]\u001b[0m\u001b[1;33m,\u001b[0m \u001b[0malign\u001b[0m\u001b[1;33m=\u001b[0m\u001b[1;34m'center'\u001b[0m\u001b[1;33m,\u001b[0m\u001b[0mcolor\u001b[0m\u001b[1;33m=\u001b[0m\u001b[0mcolor\u001b[0m\u001b[1;33m)\u001b[0m\u001b[1;33m\u001b[0m\u001b[1;33m\u001b[0m\u001b[0m\n\u001b[0m\u001b[0;32m     38\u001b[0m         \u001b[0maxs\u001b[0m\u001b[1;33m[\u001b[0m\u001b[1;36m4\u001b[0m\u001b[1;33m*\u001b[0m\u001b[0mi\u001b[0m\u001b[1;33m+\u001b[0m\u001b[0mj\u001b[0m\u001b[1;33m]\u001b[0m\u001b[1;33m.\u001b[0m\u001b[0mset_yticks\u001b[0m\u001b[1;33m(\u001b[0m\u001b[0my_pos\u001b[0m\u001b[1;33m)\u001b[0m\u001b[1;33m\u001b[0m\u001b[1;33m\u001b[0m\u001b[0m\n\u001b[0;32m     39\u001b[0m         \u001b[0maxs\u001b[0m\u001b[1;33m[\u001b[0m\u001b[1;36m4\u001b[0m\u001b[1;33m*\u001b[0m\u001b[0mi\u001b[0m\u001b[1;33m+\u001b[0m\u001b[0mj\u001b[0m\u001b[1;33m]\u001b[0m\u001b[1;33m.\u001b[0m\u001b[0mset_yticklabels\u001b[0m\u001b[1;33m(\u001b[0m\u001b[0mlabels\u001b[0m\u001b[1;33m)\u001b[0m\u001b[1;33m\u001b[0m\u001b[1;33m\u001b[0m\u001b[0m\n",
      "\u001b[1;31mIndexError\u001b[0m: only integers, slices (`:`), ellipsis (`...`), numpy.newaxis (`None`) and integer or boolean arrays are valid indices"
     ]
    },
    {
     "data": {
      "image/png": "[encoded data removed]",
      "text/plain": [
       "<Figure size 640x480 with 16 Axes>"
      ]
     },
     "metadata": {},
     "output_type": "display_data"
    }
   ],
   "source": [
    "indiv = 1\n",
    "epsilon = 0.01\n",
    "\n",
    "fig, axs = plt.subplots(4, 4)\n",
    "\n",
    "for i in range (4):\n",
    "    for j in range (4):\n",
    "\n",
    "        model = build_model()\n",
    "        model.fit(train_data, train_targets, epochs=80, batch_size=16, verbose=0)\n",
    "        test_mse_score, test_mae_score = model.evaluate(test_data, test_targets)\n",
    "\n",
    "        base_pred = model.predict(np.array([test_data[indiv,:]]))\n",
    "\n",
    "        new_preds_pos = []\n",
    "        new_preds_neg = []\n",
    "        for i, feat in enumerate(np.array(test_data[indiv,:])):\n",
    "            tmp = np.copy(test_data[indiv,:])\n",
    "            np.put(tmp, i, feat+epsilon)\n",
    "            new_preds_pos.append(model.predict(np.array([tmp])))\n",
    "            np.put(tmp, i, feat-epsilon)\n",
    "            new_preds_neg.append(model.predict(np.array([tmp])))\n",
    "\n",
    "        new_preds_pos = np.array(new_preds_pos)\n",
    "        new_preds_neg = np.array(new_preds_neg)\n",
    "\n",
    "        derivatives = (((new_preds_pos-base_pred)-(new_preds_neg-base_pred))/2)/epsilon\n",
    "\n",
    "        color = []\n",
    "        for i in derivatives[:,0][:,0]:\n",
    "            if i > 0:\n",
    "                color.append('blue')\n",
    "            else:\n",
    "                color.append('red')\n",
    "\n",
    "        y_pos = np.arange(len(labels))\n",
    "        axs[4*i+j].barh(y_pos, derivatives[:,0][:,0], align='center',color=color)\n",
    "        axs[4*i+j].set_yticks(y_pos)\n",
    "        axs[4*i+j].set_yticklabels(labels)\n",
    "        axs[4*i+j].invert_yaxis()\n",
    "\n",
    "plt.show()\n"
   ]
  },
  {
   "cell_type": "code",
   "execution_count": null,
   "metadata": {},
   "outputs": [],
   "source": []
  }
 ],
 "metadata": {
  "kernelspec": {
   "display_name": "Python 3",
   "language": "python",
   "name": "python3"
  },
  "language_info": {
   "codemirror_mode": {
    "name": "ipython",
    "version": 3
   },
   "file_extension": ".py",
   "mimetype": "text/x-python",
   "name": "python",
   "nbconvert_exporter": "python",
   "pygments_lexer": "ipython3",
   "version": "3.7.4"
  }
 },
 "nbformat": 4,
 "nbformat_minor": 4
}
