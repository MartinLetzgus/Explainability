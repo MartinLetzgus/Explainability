{
 "cells": [
  {
   "cell_type": "markdown",
   "metadata": {},
   "source": [
    "# Tests on explainability"
   ]
  },
  {
   "cell_type": "markdown",
   "metadata": {},
   "source": [
    "Fist part we are getting the keras model made by Shanekonaung on the Boston Housing dataset: https://www.kaggle.com/shanekonaung/boston-housing-price-dataset-with-keras\n",
    "The notebook describe how I've work through the project, I've put usefull functions at the end :)"
   ]
  },
  {
   "cell_type": "code",
   "execution_count": 1,
   "metadata": {},
   "outputs": [],
   "source": [
    "import numpy as np\n",
    "import matplotlib.pyplot as plt\n",
    "%matplotlib inline"
   ]
  },
  {
   "cell_type": "code",
   "execution_count": 2,
   "metadata": {},
   "outputs": [
    {
     "name": "stderr",
     "output_type": "stream",
     "text": [
      "Using TensorFlow backend.\n"
     ]
    }
   ],
   "source": [
    "from keras.datasets import boston_housing\n",
    "\n",
    "(train_data, train_targets), (test_data, test_targets) = boston_housing.load_data()\n",
    "labels = ['CRIM','ZN','INDUS','CHAS','NOX','RM','AGE','DIS','RAD','TAX','PTRATIO','B','LSTAT']"
   ]
  },
  {
   "cell_type": "code",
   "execution_count": 3,
   "metadata": {},
   "outputs": [],
   "source": [
    "mean = train_data.mean(axis=0)\n",
    "train_data -= mean\n",
    "std = train_data.std(axis=0)\n",
    "train_data /= std\n",
    "\n",
    "test_data -= mean\n",
    "test_data /= std"
   ]
  },
  {
   "cell_type": "code",
   "execution_count": 4,
   "metadata": {},
   "outputs": [],
   "source": [
    "from keras import models\n",
    "from keras import layers\n",
    "\n",
    "def build_model():\n",
    "    model = models.Sequential()\n",
    "    model.add(layers.Dense(64, activation='relu', input_shape=(train_data.shape[1],)))\n",
    "    model.add(layers.Dense(64, activation='relu'))\n",
    "    model.add(layers.Dense(1))\n",
    "\n",
    "    model.compile(optimizer='rmsprop',\n",
    "              loss='mse',\n",
    "              metrics=['mae'])\n",
    "    return model"
   ]
  },
  {
   "cell_type": "code",
   "execution_count": 5,
   "metadata": {},
   "outputs": [
    {
     "name": "stdout",
     "output_type": "stream",
     "text": [
      "102/102 [==============================] - 0s 1ms/step\n"
     ]
    }
   ],
   "source": [
    "model = build_model()\n",
    "model.fit(train_data, train_targets, epochs=80, batch_size=16, verbose=0)\n",
    "test_mse_score, test_mae_score = model.evaluate(test_data, test_targets)"
   ]
  },
  {
   "cell_type": "code",
   "execution_count": 6,
   "metadata": {},
   "outputs": [
    {
     "data": {
      "text/plain": [
       "(2.6949939727783203, 20.740324730966606)"
      ]
     },
     "execution_count": 6,
     "metadata": {},
     "output_type": "execute_result"
    }
   ],
   "source": [
    "test_mae_score,test_mse_score"
   ]
  },
  {
   "cell_type": "markdown",
   "metadata": {},
   "source": [
    "## Beginning of Experiments"
   ]
  },
  {
   "cell_type": "markdown",
   "metadata": {},
   "source": [
    "#### We begin by experimenting on a sigle individual"
   ]
  },
  {
   "cell_type": "code",
   "execution_count": 7,
   "metadata": {},
   "outputs": [],
   "source": [
    "#We define what will be the epsilon used to calculate the derivative\n",
    "epsilon = 0.01"
   ]
  },
  {
   "cell_type": "code",
   "execution_count": 8,
   "metadata": {},
   "outputs": [],
   "source": [
    "#prediction of individual 0\n",
    "base_pred = model.predict(np.array([test_data[0,:]]))"
   ]
  },
  {
   "cell_type": "code",
   "execution_count": 9,
   "metadata": {},
   "outputs": [],
   "source": [
    "#For each feature we add epsilon and predict the result (in new_preds_pos)\n",
    "new_preds = []\n",
    "for i, feat in enumerate(np.array(test_data[0,:])):\n",
    "    tmp = np.copy(test_data[0,:])\n",
    "    np.put(tmp, i, feat+epsilon)\n",
    "    new_preds.append(model.predict(np.array([tmp])))"
   ]
  },
  {
   "cell_type": "code",
   "execution_count": 10,
   "metadata": {},
   "outputs": [],
   "source": [
    "#We can now calculate the derivatives based on normalized features\n",
    "derivatives = (new_preds-base_pred)/epsilon"
   ]
  },
  {
   "cell_type": "code",
   "execution_count": 11,
   "metadata": {},
   "outputs": [
    {
     "name": "stdout",
     "output_type": "stream",
     "text": [
      "derivative of the feature 0 on individual zero is [-1.16] \n",
      "derivative of the feature 1 on individual zero is [-1.02] \n",
      "derivative of the feature 2 on individual zero is [0.58] \n",
      "derivative of the feature 3 on individual zero is [-0.74] \n",
      "derivative of the feature 4 on individual zero is [-1.41] \n",
      "derivative of the feature 5 on individual zero is [-0.99] \n",
      "derivative of the feature 6 on individual zero is [0.92] \n",
      "derivative of the feature 7 on individual zero is [-2.44] \n",
      "derivative of the feature 8 on individual zero is [2.34] \n",
      "derivative of the feature 9 on individual zero is [1.55] \n",
      "derivative of the feature 10 on individual zero is [0.6] \n",
      "derivative of the feature 11 on individual zero is [-0.72] \n",
      "derivative of the feature 12 on individual zero is [-1.84] \n"
     ]
    }
   ],
   "source": [
    "#Let's visualize them :\n",
    "for i, der in enumerate(derivatives):\n",
    "    print(f'derivative of the feature {i} on individual zero is {np.around(der[:,0],decimals=2)} ')"
   ]
  },
  {
   "cell_type": "markdown",
   "metadata": {},
   "source": [
    "We can change the individual which is studied :"
   ]
  },
  {
   "cell_type": "code",
   "execution_count": 12,
   "metadata": {},
   "outputs": [],
   "source": [
    "indiv = 1"
   ]
  },
  {
   "cell_type": "code",
   "execution_count": 13,
   "metadata": {},
   "outputs": [],
   "source": [
    "#We define what will be the epsilon used to calculate the derivative\n",
    "epsilon = 0.01"
   ]
  },
  {
   "cell_type": "code",
   "execution_count": 14,
   "metadata": {},
   "outputs": [],
   "source": [
    "#prediction of individual 'indiv'\n",
    "base_pred = model.predict(np.array([test_data[indiv,:]]))"
   ]
  },
  {
   "cell_type": "code",
   "execution_count": 15,
   "metadata": {},
   "outputs": [],
   "source": [
    "#For each feature we add epsilon and predict the result\n",
    "new_preds = []\n",
    "for i, feat in enumerate(np.array(test_data[indiv,:])):\n",
    "    tmp = np.copy(test_data[indiv,:])\n",
    "    np.put(tmp, i, feat+epsilon)\n",
    "    new_preds.append(model.predict(np.array([tmp])))"
   ]
  },
  {
   "cell_type": "code",
   "execution_count": 16,
   "metadata": {},
   "outputs": [],
   "source": [
    "#We cannow calculate the derivatives\n",
    "derivatives = (new_preds-base_pred)/epsilon"
   ]
  },
  {
   "cell_type": "code",
   "execution_count": 17,
   "metadata": {},
   "outputs": [
    {
     "name": "stdout",
     "output_type": "stream",
     "text": [
      "derivative of the feature 0 on individual 1 is  [-8.72] \n",
      "derivative of the feature 1 on individual 1 is  [-4.51] \n",
      "derivative of the feature 2 on individual 1 is  [-0.8] \n",
      "derivative of the feature 3 on individual 1 is  [-3.02] \n",
      "derivative of the feature 4 on individual 1 is  [-5.09] \n",
      "derivative of the feature 5 on individual 1 is  [-0.27] \n",
      "derivative of the feature 6 on individual 1 is  [-0.23] \n",
      "derivative of the feature 7 on individual 1 is  [-5.76] \n",
      "derivative of the feature 8 on individual 1 is  [2.11] \n",
      "derivative of the feature 9 on individual 1 is  [-1.06] \n",
      "derivative of the feature 10 on individual 1 is  [-0.91] \n",
      "derivative of the feature 11 on individual 1 is  [2.78] \n",
      "derivative of the feature 12 on individual 1 is  [-2.37] \n"
     ]
    }
   ],
   "source": [
    "#Let's visualize them :\n",
    "for i, der in enumerate(derivatives):\n",
    "    print(f'derivative of the feature {i} on individual {indiv} is  {np.around(der[:,0],decimals=2)} ')"
   ]
  },
  {
   "cell_type": "markdown",
   "metadata": {},
   "source": [
    "### We will compute the derivative by retracting epsilon instead of adding it, in order to have a better approximation of the derivative"
   ]
  },
  {
   "cell_type": "code",
   "execution_count": 18,
   "metadata": {},
   "outputs": [
    {
     "name": "stdout",
     "output_type": "stream",
     "text": [
      "derivative of the feature 0 on individual 9 is  [-5.35] \n",
      "derivative of the feature 1 on individual 9 is  [-3.32] \n",
      "derivative of the feature 2 on individual 9 is  [0.43] \n",
      "derivative of the feature 3 on individual 9 is  [-1.62] \n",
      "derivative of the feature 4 on individual 9 is  [-4.28] \n",
      "derivative of the feature 5 on individual 9 is  [0.99] \n",
      "derivative of the feature 6 on individual 9 is  [1.24] \n",
      "derivative of the feature 7 on individual 9 is  [-8.57] \n",
      "derivative of the feature 8 on individual 9 is  [5.57] \n",
      "derivative of the feature 9 on individual 9 is  [1.15] \n",
      "derivative of the feature 10 on individual 9 is  [0.95] \n",
      "derivative of the feature 11 on individual 9 is  [2.47] \n",
      "derivative of the feature 12 on individual 9 is  [-10.8] \n"
     ]
    }
   ],
   "source": [
    "indiv = 9\n",
    "epsilon = 0.01\n",
    "\n",
    "base_pred = model.predict(np.array([test_data[indiv,:]]))\n",
    "\n",
    "new_preds_pos = []\n",
    "new_preds_neg = []\n",
    "for i, feat in enumerate(np.array(test_data[indiv,:])):\n",
    "    tmp = np.copy(test_data[indiv,:])\n",
    "    np.put(tmp, i, feat+epsilon)\n",
    "    new_preds_pos.append(model.predict(np.array([tmp])))\n",
    "    np.put(tmp, i, feat-epsilon)\n",
    "    new_preds_neg.append(model.predict(np.array([tmp])))\n",
    "    \n",
    "new_preds_pos = np.array(new_preds_pos)\n",
    "new_preds_neg = np.array(new_preds_neg)\n",
    "    \n",
    "derivatives = (((new_preds_pos-base_pred)-(new_preds_neg-base_pred))/2)/epsilon\n",
    "\n",
    "for i, der in enumerate(derivatives):\n",
    "    print(f'derivative of the feature {i} on individual {indiv} is  {np.around(der[:,0],decimals=2)} ')"
   ]
  },
  {
   "cell_type": "markdown",
   "metadata": {},
   "source": [
    "### Let's try to give a visual representation of an individual"
   ]
  },
  {
   "cell_type": "code",
   "execution_count": 19,
   "metadata": {},
   "outputs": [
    {
     "data": {
      "image/png": "[encoded data removed]",
      "text/plain": [
       "<Figure size 640x480 with 1 Axes>"
      ]
     },
     "metadata": {},
     "output_type": "display_data"
    }
   ],
   "source": [
    "indiv = 1\n",
    "color = []\n",
    "for i in derivatives[:,0][:,0]:\n",
    "    if i > 0:\n",
    "        color.append('blue')\n",
    "    else:\n",
    "        color.append('red')\n",
    "\n",
    "plt.rcdefaults()\n",
    "fig, ax = plt.subplots()\n",
    "y_pos = np.arange(len(labels))\n",
    "ax.barh(y_pos, derivatives[:,0][:,0], align='center',color=color)\n",
    "ax.set_yticks(y_pos)\n",
    "ax.set_yticklabels(labels)\n",
    "ax.invert_yaxis()\n",
    "plt.show()\n",
    "#fig.savefig('result_explainability.png')"
   ]
  },
  {
   "cell_type": "markdown",
   "metadata": {},
   "source": [
    "We are intersted to see if training the same model with the same data leads to the same chart every time"
   ]
  },
  {
   "cell_type": "code",
   "execution_count": 20,
   "metadata": {},
   "outputs": [
    {
     "name": "stdout",
     "output_type": "stream",
     "text": [
      "102/102 [==============================] - 0s 1ms/step\n",
      "102/102 [==============================] - 0s 2ms/step\n",
      "102/102 [==============================] - 0s 2ms/step\n",
      "102/102 [==============================] - 0s 1ms/step\n",
      "102/102 [==============================] - 0s 951us/step\n",
      "102/102 [==============================] - 0s 970us/step\n",
      "102/102 [==============================] - 0s 804us/step\n",
      "102/102 [==============================] - 0s 2ms/step\n",
      "102/102 [==============================] - 0s 2ms/step\n",
      "102/102 [==============================] - 0s 1ms/step\n",
      "102/102 [==============================] - 0s 804us/step\n",
      "102/102 [==============================] - 0s 1ms/step\n",
      "102/102 [==============================] - 0s 3ms/step\n",
      "102/102 [==============================] - 0s 2ms/step\n",
      "102/102 [==============================] - 0s 1ms/step\n",
      "102/102 [==============================] - 0s 823us/step\n"
     ]
    },
    {
     "data": {
      "image/png": "[encoded data removed]",
      "text/plain": [
       "<Figure size 640x480 with 16 Axes>"
      ]
     },
     "metadata": {},
     "output_type": "display_data"
    }
   ],
   "source": [
    "indiv = 7\n",
    "epsilon = 0.01\n",
    "\n",
    "fig, axs = plt.subplots(4,4)\n",
    "\n",
    "for a in range (4):\n",
    "    for b in range (4):\n",
    "\n",
    "        model = build_model()\n",
    "        model.fit(train_data, train_targets, epochs=100, batch_size=16, verbose=0)\n",
    "        test_mse_score, test_mae_score = model.evaluate(test_data, test_targets)\n",
    "\n",
    "        base_pred = model.predict(np.array([test_data[indiv,:]]))\n",
    "\n",
    "        new_preds_pos = []\n",
    "        new_preds_neg = []\n",
    "        for i, feat in enumerate(np.array(test_data[indiv,:])):\n",
    "            tmp = np.copy(test_data[indiv,:])\n",
    "            np.put(tmp, i, feat+epsilon)\n",
    "            new_preds_pos.append(model.predict(np.array([tmp])))\n",
    "            np.put(tmp, i, feat-epsilon)\n",
    "            new_preds_neg.append(model.predict(np.array([tmp])))\n",
    "\n",
    "        new_preds_pos = np.array(new_preds_pos)\n",
    "        new_preds_neg = np.array(new_preds_neg)\n",
    "\n",
    "        derivatives = (((new_preds_pos-base_pred)-(new_preds_neg-base_pred))/2)/epsilon\n",
    "\n",
    "        color = []\n",
    "        for i in derivatives[:,0][:,0]:\n",
    "            if i > 0:\n",
    "                color.append('blue')\n",
    "            else:\n",
    "                color.append('red')\n",
    "\n",
    "        y_pos = np.arange(len(labels))\n",
    "        axs[int(a),int(b)].barh(y_pos, derivatives[:,0][:,0], align='center',color=color)\n",
    "        axs[int(a),int(b)].set_yticks(y_pos)\n",
    "        axs[int(a),int(b)].set_yticklabels(labels)\n",
    "        axs[int(a),int(b)].invert_yaxis()\n",
    "\n",
    "plt.show()\n"
   ]
  },
  {
   "cell_type": "markdown",
   "metadata": {},
   "source": [
    "The results are not identical, but it is normal because the model are not the same (even if they have the same architecture and training). However we can see that even with different models the features have almost the same weights."
   ]
  },
  {
   "cell_type": "markdown",
   "metadata": {},
   "source": [
    "# Usefull Functions"
   ]
  },
  {
   "cell_type": "code",
   "execution_count": 21,
   "metadata": {},
   "outputs": [],
   "source": [
    "def get_derivatives(model, indiv, epsilon=0.01):\n",
    "    base_pred = model.predict(np.array([indiv]))\n",
    "\n",
    "    new_preds_pos = []\n",
    "    new_preds_neg = []\n",
    "    for i, feat in enumerate(np.array(indiv)):\n",
    "        tmp = np.copy(indiv)\n",
    "        np.put(tmp, i, feat+epsilon)\n",
    "        new_preds_pos.append(model.predict(np.array([tmp])))\n",
    "        np.put(tmp, i, feat-epsilon)\n",
    "        new_preds_neg.append(model.predict(np.array([tmp])))\n",
    "\n",
    "    new_preds_pos = np.array(new_preds_pos)\n",
    "    new_preds_neg = np.array(new_preds_neg)\n",
    "\n",
    "    return ((((new_preds_pos-base_pred)-(new_preds_neg-base_pred))/2)/epsilon)[:,0][:,0]"
   ]
  },
  {
   "cell_type": "code",
   "execution_count": 22,
   "metadata": {},
   "outputs": [],
   "source": [
    "def plot_derivatives(derivatives, labels, save_name=None):\n",
    "    color = []\n",
    "    for i in derivatives:\n",
    "        if i > 0:\n",
    "            color.append('blue')\n",
    "        else:\n",
    "            color.append('red')\n",
    "\n",
    "    plt.rcdefaults()\n",
    "    fig, ax = plt.subplots()\n",
    "    y_pos = np.arange(len(labels))\n",
    "    ax.barh(y_pos, derivatives, align='center',color=color)\n",
    "    ax.set_yticks(y_pos)\n",
    "    ax.set_yticklabels(labels)\n",
    "    ax.invert_yaxis()\n",
    "    plt.show()\n",
    "    if (save_name!=None):\n",
    "        fig.savefig(str(save_name)+'.png')\n"
   ]
  },
  {
   "cell_type": "markdown",
   "metadata": {},
   "source": [
    "### Example"
   ]
  },
  {
   "cell_type": "code",
   "execution_count": 23,
   "metadata": {},
   "outputs": [
    {
     "name": "stdout",
     "output_type": "stream",
     "text": [
      "[-5.456543   -1.0803223  -1.5380859  -2.0202637  -2.7526855   1.4587402\n",
      "  0.7080078  -3.881836    2.5024414  -0.2746582  -0.53100586  3.9733887\n",
      " -5.2124023 ]\n"
     ]
    },
    {
     "data": {
      "image/png": "[encoded data removed]",
      "text/plain": [
       "<Figure size 640x480 with 1 Axes>"
      ]
     },
     "metadata": {},
     "output_type": "display_data"
    }
   ],
   "source": [
    "test = np.array([0.06905,0.0,2.18,0.0,0.458,7.147,54.2,6.0622,3.0,222.0,18.7,396.90,5.33])\n",
    "deri = get_derivatives(model,test)\n",
    "print(deri)\n",
    "plot_derivatives(deri, labels)"
   ]
  }
 ],
 "metadata": {
  "kernelspec": {
   "display_name": "Python 3",
   "language": "python",
   "name": "python3"
  },
  "language_info": {
   "codemirror_mode": {
    "name": "ipython",
    "version": 3
   },
   "file_extension": ".py",
   "mimetype": "text/x-python",
   "name": "python",
   "nbconvert_exporter": "python",
   "pygments_lexer": "ipython3",
   "version": "3.7.4"
  }
 },
 "nbformat": 4,
 "nbformat_minor": 4
}
